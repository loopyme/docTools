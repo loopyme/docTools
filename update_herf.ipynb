{
 "cells": [
  {
   "cell_type": "code",
   "execution_count": null,
   "metadata": {},
   "outputs": [],
   "source": [
    "import re\n",
    "import os\n",
    "\n",
    "link = r'\\[[^@\\\\!].+?\\]\\(.+?\\)'\n",
    "inpage_link=r'\\[[^@\\\\!][^\\[]+?\\]\\(#.+?\\)'\n",
    "herf = r'\\(.+?\\)'\n",
    "title =r'\\n#+.+'\n",
    "herf_dic={}"
   ]
  },
  {
   "cell_type": "code",
   "execution_count": null,
   "metadata": {},
   "outputs": [],
   "source": [
    "def get_herf_dic(matched,get_old):\n",
    "    '''获取新旧链接映射表,并按请求(get_old)返回对应链接'''\n",
    "    global herf_dic,index\n",
    "    new,old = re.sub('\\[|\\)','',matched).split('](')\n",
    "    chapter=int(re.findall('\\d+',new)[1])+index\n",
    "    \n",
    "    # Herf transformation rules\n",
    "    new=re.sub('\\.','',new)\n",
    "    new=re.sub('\\\\\\\\ | ','-',new).lower().replace('(','（').replace(')','）')\n",
    "    new='/docs/{}?id=_'.format(chapter)+new\n",
    "    \n",
    "    if old not in herf_dic.keys():\n",
    "        herf_dic[old]=new\n",
    "    \n",
    "    if get_old:\n",
    "        return old\n",
    "    else:\n",
    "        return new"
   ]
  },
  {
   "cell_type": "code",
   "execution_count": null,
   "metadata": {},
   "outputs": [],
   "source": [
    "for index in [1,19,33]:\n",
    "    with open('./docs/{}.md'.format(index), 'r+') as f:\n",
    "        text = f.read()\n",
    "    links=re.findall(link,text)\n",
    "    for l in links:\n",
    "        get_herf_dic(l,False)"
   ]
  },
  {
   "cell_type": "code",
   "execution_count": null,
   "metadata": {},
   "outputs": [],
   "source": [
    "with open('./docs/herf_dic.json','w') as f:\n",
    "        f.write(str(herf_dic))\n",
    "        "
   ]
  },
  {
   "cell_type": "code",
   "execution_count": null,
   "metadata": {},
   "outputs": [],
   "source": [
    "def find_in_dic(link):\n",
    "    '''按照新旧链接映射表,完成链接修改'''\n",
    "    global herf_dic\n",
    "    link=link.group()\n",
    "    name=link.split('](')[0].replace('[','')\n",
    "    old_herf= get_herf_dic(link,True)\n",
    "    if old_herf in herf_dic.keys():\n",
    "        new_link = \"[{}]({})\".format(name,herf_dic[old_herf])\n",
    "        return new_link\n",
    "    else:\n",
    "        return link"
   ]
  },
  {
   "cell_type": "code",
   "execution_count": null,
   "metadata": {},
   "outputs": [],
   "source": [
    "for index in [1,19,33]:\n",
    "    with open('./docs/{}.md'.format(index), 'r+') as f:\n",
    "        text = f.read()\n",
    "        text = re.sub(link,find_in_dic,text)\n",
    "        f.seek(0)\n",
    "        f.truncate()\n",
    "        f.write(text)"
   ]
  },
  {
   "cell_type": "code",
   "execution_count": null,
   "metadata": {},
   "outputs": [],
   "source": [
    "# 寻找页内链接\n",
    "with open('./docs/2.md', 'r+') as f:\n",
    "    text = f.read()\n",
    "herf_list = re.findall(inpage_link,text)\n",
    "titles = re.findall(title,text)\n",
    "for t in titles:\n",
    "    t= re.sub('\\.|\\n','',t)\n",
    "    t= re.sub('#+','#',t)\n",
    "    t = re.sub('\\\\\\\\ | ','-',t).lower().replace('(','（').replace(')','）')\n",
    "    print(t)"
   ]
  }
 ],
 "metadata": {
  "kernelspec": {
   "display_name": "Python 3",
   "language": "python",
   "name": "python3"
  },
  "language_info": {
   "codemirror_mode": {
    "name": "ipython",
    "version": 3
   },
   "file_extension": ".py",
   "mimetype": "text/x-python",
   "name": "python",
   "nbconvert_exporter": "python",
   "pygments_lexer": "ipython3",
   "version": "3.6.7"
  }
 },
 "nbformat": 4,
 "nbformat_minor": 2
}
